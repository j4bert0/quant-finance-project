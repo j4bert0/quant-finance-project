{
 "cells": [
  {
   "cell_type": "code",
   "execution_count": 1,
   "metadata": {},
   "outputs": [],
   "source": [
    "%%capture\n",
    "%run full_data.ipynb"
   ]
  },
  {
   "cell_type": "code",
   "execution_count": 2,
   "metadata": {},
   "outputs": [],
   "source": [
    "import sys \n",
    "sys.path.append('..')\n",
    "import portfolios as p\n",
    "from dataio import sample_summary_by_date"
   ]
  },
  {
   "cell_type": "markdown",
   "metadata": {},
   "source": [
    "# Appendix: Data tables and figures"
   ]
  },
  {
   "cell_type": "code",
   "execution_count": 3,
   "metadata": {
    "scrolled": true
   },
   "outputs": [
    {
     "data": {
      "text/html": [
       "<div>\n",
       "<style scoped>\n",
       "    .dataframe tbody tr th:only-of-type {\n",
       "        vertical-align: middle;\n",
       "    }\n",
       "\n",
       "    .dataframe tbody tr th {\n",
       "        vertical-align: top;\n",
       "    }\n",
       "\n",
       "    .dataframe thead th {\n",
       "        text-align: right;\n",
       "    }\n",
       "</style>\n",
       "<table border=\"1\" class=\"dataframe\">\n",
       "  <thead>\n",
       "    <tr style=\"text-align: right;\">\n",
       "      <th></th>\n",
       "      <th>PERMNO</th>\n",
       "      <th>date</th>\n",
       "      <th>TICKER</th>\n",
       "      <th>COMNAM</th>\n",
       "      <th>RET</th>\n",
       "      <th>RETX</th>\n",
       "      <th>ME</th>\n",
       "      <th>vwretd</th>\n",
       "      <th>ewretd</th>\n",
       "    </tr>\n",
       "  </thead>\n",
       "  <tbody>\n",
       "    <tr>\n",
       "      <th>0</th>\n",
       "      <td>10001</td>\n",
       "      <td>199801</td>\n",
       "      <td>EWST</td>\n",
       "      <td>ENERGY WEST INC</td>\n",
       "      <td>0.000000</td>\n",
       "      <td>0.000000</td>\n",
       "      <td>21.555000</td>\n",
       "      <td>0.004502</td>\n",
       "      <td>0.015367</td>\n",
       "    </tr>\n",
       "    <tr>\n",
       "      <th>1</th>\n",
       "      <td>10001</td>\n",
       "      <td>199802</td>\n",
       "      <td>EWST</td>\n",
       "      <td>ENERGY WEST INC</td>\n",
       "      <td>-0.006944</td>\n",
       "      <td>-0.006944</td>\n",
       "      <td>21.405313</td>\n",
       "      <td>0.073303</td>\n",
       "      <td>0.060460</td>\n",
       "    </tr>\n",
       "    <tr>\n",
       "      <th>2</th>\n",
       "      <td>10001</td>\n",
       "      <td>199803</td>\n",
       "      <td>EWST</td>\n",
       "      <td>ENERGY WEST INC</td>\n",
       "      <td>-0.008671</td>\n",
       "      <td>-0.020979</td>\n",
       "      <td>21.008750</td>\n",
       "      <td>0.051301</td>\n",
       "      <td>0.046884</td>\n",
       "    </tr>\n",
       "    <tr>\n",
       "      <th>3</th>\n",
       "      <td>10001</td>\n",
       "      <td>199804</td>\n",
       "      <td>EWST</td>\n",
       "      <td>ENERGY WEST INC</td>\n",
       "      <td>0.007143</td>\n",
       "      <td>0.007143</td>\n",
       "      <td>21.158812</td>\n",
       "      <td>0.010904</td>\n",
       "      <td>0.023244</td>\n",
       "    </tr>\n",
       "    <tr>\n",
       "      <th>4</th>\n",
       "      <td>10001</td>\n",
       "      <td>199805</td>\n",
       "      <td>EWST</td>\n",
       "      <td>ENERGY WEST INC</td>\n",
       "      <td>-0.014184</td>\n",
       "      <td>-0.014184</td>\n",
       "      <td>20.858687</td>\n",
       "      <td>-0.025748</td>\n",
       "      <td>-0.042571</td>\n",
       "    </tr>\n",
       "  </tbody>\n",
       "</table>\n",
       "</div>"
      ],
      "text/plain": [
       "   PERMNO    date TICKER           COMNAM       RET      RETX         ME  \\\n",
       "0   10001  199801   EWST  ENERGY WEST INC  0.000000  0.000000  21.555000   \n",
       "1   10001  199802   EWST  ENERGY WEST INC -0.006944 -0.006944  21.405313   \n",
       "2   10001  199803   EWST  ENERGY WEST INC -0.008671 -0.020979  21.008750   \n",
       "3   10001  199804   EWST  ENERGY WEST INC  0.007143  0.007143  21.158812   \n",
       "4   10001  199805   EWST  ENERGY WEST INC -0.014184 -0.014184  20.858687   \n",
       "\n",
       "     vwretd    ewretd  \n",
       "0  0.004502  0.015367  \n",
       "1  0.073303  0.060460  \n",
       "2  0.051301  0.046884  \n",
       "3  0.010904  0.023244  \n",
       "4 -0.025748 -0.042571  "
      ]
     },
     "execution_count": 3,
     "metadata": {},
     "output_type": "execute_result"
    }
   ],
   "source": [
    "fdata.head()"
   ]
  },
  {
   "cell_type": "markdown",
   "metadata": {},
   "source": [
    "See filtered_data_1st_decile_out_fsample_NEW.csv for full sample summary."
   ]
  },
  {
   "cell_type": "code",
   "execution_count": 4,
   "metadata": {},
   "outputs": [],
   "source": [
    "filtered_data = pd.read_csv('filtered_data_1st_decile_out_fsample_NEW.csv')"
   ]
  },
  {
   "cell_type": "code",
   "execution_count": 5,
   "metadata": {},
   "outputs": [],
   "source": [
    "data_summary = sample_summary_by_date(filtered_data).round(3)"
   ]
  },
  {
   "cell_type": "code",
   "execution_count": 6,
   "metadata": {},
   "outputs": [
    {
     "data": {
      "text/html": [
       "<div>\n",
       "<style scoped>\n",
       "    .dataframe tbody tr th:only-of-type {\n",
       "        vertical-align: middle;\n",
       "    }\n",
       "\n",
       "    .dataframe tbody tr th {\n",
       "        vertical-align: top;\n",
       "    }\n",
       "\n",
       "    .dataframe thead th {\n",
       "        text-align: right;\n",
       "    }\n",
       "</style>\n",
       "<table border=\"1\" class=\"dataframe\">\n",
       "  <thead>\n",
       "    <tr style=\"text-align: right;\">\n",
       "      <th></th>\n",
       "      <th>count</th>\n",
       "      <th>unique</th>\n",
       "      <th>mean</th>\n",
       "      <th>std</th>\n",
       "      <th>min</th>\n",
       "      <th>25%</th>\n",
       "      <th>50%</th>\n",
       "      <th>75%</th>\n",
       "      <th>max</th>\n",
       "    </tr>\n",
       "    <tr>\n",
       "      <th>date</th>\n",
       "      <th></th>\n",
       "      <th></th>\n",
       "      <th></th>\n",
       "      <th></th>\n",
       "      <th></th>\n",
       "      <th></th>\n",
       "      <th></th>\n",
       "      <th></th>\n",
       "      <th></th>\n",
       "    </tr>\n",
       "  </thead>\n",
       "  <tbody>\n",
       "    <tr>\n",
       "      <th>199802</th>\n",
       "      <td>6306</td>\n",
       "      <td>6277</td>\n",
       "      <td>0.068</td>\n",
       "      <td>0.142</td>\n",
       "      <td>-0.688</td>\n",
       "      <td>-0.007</td>\n",
       "      <td>0.052</td>\n",
       "      <td>0.128</td>\n",
       "      <td>1.456</td>\n",
       "    </tr>\n",
       "    <tr>\n",
       "      <th>199803</th>\n",
       "      <td>6292</td>\n",
       "      <td>6262</td>\n",
       "      <td>0.050</td>\n",
       "      <td>0.150</td>\n",
       "      <td>-0.759</td>\n",
       "      <td>-0.024</td>\n",
       "      <td>0.035</td>\n",
       "      <td>0.111</td>\n",
       "      <td>1.469</td>\n",
       "    </tr>\n",
       "    <tr>\n",
       "      <th>199804</th>\n",
       "      <td>6294</td>\n",
       "      <td>6262</td>\n",
       "      <td>0.023</td>\n",
       "      <td>0.160</td>\n",
       "      <td>-0.763</td>\n",
       "      <td>-0.051</td>\n",
       "      <td>0.005</td>\n",
       "      <td>0.074</td>\n",
       "      <td>4.314</td>\n",
       "    </tr>\n",
       "    <tr>\n",
       "      <th>199805</th>\n",
       "      <td>6279</td>\n",
       "      <td>6246</td>\n",
       "      <td>-0.047</td>\n",
       "      <td>0.125</td>\n",
       "      <td>-0.743</td>\n",
       "      <td>-0.105</td>\n",
       "      <td>-0.042</td>\n",
       "      <td>0.006</td>\n",
       "      <td>2.306</td>\n",
       "    </tr>\n",
       "    <tr>\n",
       "      <th>199806</th>\n",
       "      <td>6246</td>\n",
       "      <td>6213</td>\n",
       "      <td>-0.023</td>\n",
       "      <td>0.142</td>\n",
       "      <td>-0.736</td>\n",
       "      <td>-0.093</td>\n",
       "      <td>-0.023</td>\n",
       "      <td>0.043</td>\n",
       "      <td>1.264</td>\n",
       "    </tr>\n",
       "    <tr>\n",
       "      <th>...</th>\n",
       "      <td>...</td>\n",
       "      <td>...</td>\n",
       "      <td>...</td>\n",
       "      <td>...</td>\n",
       "      <td>...</td>\n",
       "      <td>...</td>\n",
       "      <td>...</td>\n",
       "      <td>...</td>\n",
       "      <td>...</td>\n",
       "    </tr>\n",
       "    <tr>\n",
       "      <th>201908</th>\n",
       "      <td>3072</td>\n",
       "      <td>3055</td>\n",
       "      <td>-0.050</td>\n",
       "      <td>0.148</td>\n",
       "      <td>-0.670</td>\n",
       "      <td>-0.117</td>\n",
       "      <td>-0.048</td>\n",
       "      <td>0.011</td>\n",
       "      <td>1.544</td>\n",
       "    </tr>\n",
       "    <tr>\n",
       "      <th>201909</th>\n",
       "      <td>3073</td>\n",
       "      <td>3056</td>\n",
       "      <td>0.026</td>\n",
       "      <td>0.126</td>\n",
       "      <td>-0.802</td>\n",
       "      <td>-0.027</td>\n",
       "      <td>0.027</td>\n",
       "      <td>0.079</td>\n",
       "      <td>1.280</td>\n",
       "    </tr>\n",
       "    <tr>\n",
       "      <th>201910</th>\n",
       "      <td>3055</td>\n",
       "      <td>3038</td>\n",
       "      <td>0.008</td>\n",
       "      <td>0.120</td>\n",
       "      <td>-0.803</td>\n",
       "      <td>-0.043</td>\n",
       "      <td>0.009</td>\n",
       "      <td>0.061</td>\n",
       "      <td>1.567</td>\n",
       "    </tr>\n",
       "    <tr>\n",
       "      <th>201911</th>\n",
       "      <td>3053</td>\n",
       "      <td>3036</td>\n",
       "      <td>0.052</td>\n",
       "      <td>0.195</td>\n",
       "      <td>-0.834</td>\n",
       "      <td>-0.013</td>\n",
       "      <td>0.031</td>\n",
       "      <td>0.093</td>\n",
       "      <td>4.164</td>\n",
       "    </tr>\n",
       "    <tr>\n",
       "      <th>201912</th>\n",
       "      <td>3062</td>\n",
       "      <td>3046</td>\n",
       "      <td>0.050</td>\n",
       "      <td>0.172</td>\n",
       "      <td>-0.636</td>\n",
       "      <td>-0.013</td>\n",
       "      <td>0.026</td>\n",
       "      <td>0.072</td>\n",
       "      <td>2.904</td>\n",
       "    </tr>\n",
       "  </tbody>\n",
       "</table>\n",
       "<p>263 rows × 9 columns</p>\n",
       "</div>"
      ],
      "text/plain": [
       "        count  unique   mean    std    min    25%    50%    75%    max\n",
       "date                                                                  \n",
       "199802   6306    6277  0.068  0.142 -0.688 -0.007  0.052  0.128  1.456\n",
       "199803   6292    6262  0.050  0.150 -0.759 -0.024  0.035  0.111  1.469\n",
       "199804   6294    6262  0.023  0.160 -0.763 -0.051  0.005  0.074  4.314\n",
       "199805   6279    6246 -0.047  0.125 -0.743 -0.105 -0.042  0.006  2.306\n",
       "199806   6246    6213 -0.023  0.142 -0.736 -0.093 -0.023  0.043  1.264\n",
       "...       ...     ...    ...    ...    ...    ...    ...    ...    ...\n",
       "201908   3072    3055 -0.050  0.148 -0.670 -0.117 -0.048  0.011  1.544\n",
       "201909   3073    3056  0.026  0.126 -0.802 -0.027  0.027  0.079  1.280\n",
       "201910   3055    3038  0.008  0.120 -0.803 -0.043  0.009  0.061  1.567\n",
       "201911   3053    3036  0.052  0.195 -0.834 -0.013  0.031  0.093  4.164\n",
       "201912   3062    3046  0.050  0.172 -0.636 -0.013  0.026  0.072  2.904\n",
       "\n",
       "[263 rows x 9 columns]"
      ]
     },
     "execution_count": 6,
     "metadata": {},
     "output_type": "execute_result"
    }
   ],
   "source": [
    "data_summary"
   ]
  },
  {
   "cell_type": "code",
   "execution_count": 7,
   "metadata": {},
   "outputs": [],
   "source": [
    "filtered_data['PORT_MEAN'] = 1"
   ]
  },
  {
   "cell_type": "code",
   "execution_count": 8,
   "metadata": {},
   "outputs": [],
   "source": [
    "mean_ret = p.compute_strategy_returns(filtered_data,'PORT_MEAN',1)"
   ]
  },
  {
   "cell_type": "code",
   "execution_count": 9,
   "metadata": {},
   "outputs": [],
   "source": [
    "universe_plot = filtered_data[['date','vwretd','ewretd']].drop_duplicates().set_index('date').sort_index()"
   ]
  },
  {
   "cell_type": "code",
   "execution_count": 10,
   "metadata": {},
   "outputs": [],
   "source": [
    "universe_plot['Universe ew return'] = mean_ret.values\n",
    "universe_plot.index = universe_plot.index.astype(str)"
   ]
  },
  {
   "cell_type": "code",
   "execution_count": 11,
   "metadata": {},
   "outputs": [],
   "source": [
    "universe_plot = universe_plot[11:-1]"
   ]
  },
  {
   "cell_type": "code",
   "execution_count": 12,
   "metadata": {},
   "outputs": [
    {
     "data": {
      "text/plain": [
       "<matplotlib.axes._subplots.AxesSubplot at 0x7fe1ceea3518>"
      ]
     },
     "execution_count": 12,
     "metadata": {},
     "output_type": "execute_result"
    }
   ],
   "source": [
    "universe_plot.plot(colormap='jet',figsize=(10,6),title='Market returns')"
   ]
  },
  {
   "cell_type": "code",
   "execution_count": 13,
   "metadata": {},
   "outputs": [
    {
     "data": {
      "text/plain": [
       "<matplotlib.axes._subplots.AxesSubplot at 0x7fe1b02a5160>"
      ]
     },
     "execution_count": 13,
     "metadata": {},
     "output_type": "execute_result"
    },
    {
     "data": {
      "image/png": "[encoded data removed]",
      "text/plain": [
       "<Figure size 720x432 with 1 Axes>"
      ]
     },
     "metadata": {
      "needs_background": "light"
     },
     "output_type": "display_data"
    }
   ],
   "source": [
    "p.plot_cumulative(universe_plot,log_scale=True)"
   ]
  },
  {
   "cell_type": "code",
   "execution_count": 14,
   "metadata": {},
   "outputs": [
    {
     "data": {
      "text/plain": [
       "<matplotlib.axes._subplots.AxesSubplot at 0x7fe1b15f8ac8>"
      ]
     },
     "execution_count": 14,
     "metadata": {},
     "output_type": "execute_result"
    },
    {
     "data": {
      "image/png": "[encoded data removed]",
      "text/plain": [
       "<Figure size 720x432 with 1 Axes>"
      ]
     },
     "metadata": {
      "needs_background": "light"
     },
     "output_type": "display_data"
    }
   ],
   "source": [
    "universe_plot.boxplot(figsize=(10,6))"
   ]
  },
  {
   "cell_type": "code",
   "execution_count": 15,
   "metadata": {},
   "outputs": [],
   "source": [
    "universe_plot.columns = ['vwretd','ewretd','Universe ew']"
   ]
  },
  {
   "cell_type": "code",
   "execution_count": 16,
   "metadata": {},
   "outputs": [
    {
     "name": "stdout",
     "output_type": "stream",
     "text": [
      "\\begin{tabular}{lrrrrrrrr}\n",
      "\\toprule\n",
      "{} &  count &   mean &    std &    min &    25\\% &    50\\% &    75\\% &    max \\\\\n",
      "\\midrule\n",
      "vwretd      &  251.0 &  0.006 &  0.043 & -0.185 & -0.018 &  0.012 &  0.035 &  0.114 \\\\\n",
      "ewretd      &  251.0 &  0.009 &  0.053 & -0.205 & -0.019 &  0.009 &  0.038 &  0.225 \\\\\n",
      "Universe ew &  251.0 &  0.011 &  0.057 & -0.206 & -0.020 &  0.011 &  0.046 &  0.214 \\\\\n",
      "\\bottomrule\n",
      "\\end{tabular}\n",
      "\n"
     ]
    }
   ],
   "source": [
    "print(universe_plot.describe().transpose().round(3).to_latex())"
   ]
  }
 ],
 "metadata": {
  "kernelspec": {
   "display_name": "Python 3",
   "language": "python",
   "name": "python3"
  },
  "language_info": {
   "codemirror_mode": {
    "name": "ipython",
    "version": 3
   },
   "file_extension": ".py",
   "mimetype": "text/x-python",
   "name": "python",
   "nbconvert_exporter": "python",
   "pygments_lexer": "ipython3",
   "version": "3.7.3"
  }
 },
 "nbformat": 4,
 "nbformat_minor": 2
}
