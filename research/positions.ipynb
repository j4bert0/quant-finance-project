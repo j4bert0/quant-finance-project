{
 "cells": [
  {
   "cell_type": "code",
   "execution_count": 1,
   "metadata": {},
   "outputs": [],
   "source": [
    "%%capture\n",
    "%run test_data.ipynb"
   ]
  },
  {
   "cell_type": "code",
   "execution_count": 14,
   "metadata": {},
   "outputs": [],
   "source": [
    "p10001 = data.loc[data['PERMNO'] == 10001][['date','RET']].set_index('date')\n",
    "p10001.columns = [10001]\n",
    "\n",
    "p93436 = data.loc[data['PERMNO'] == 93436][['date','RET']].set_index('date')\n",
    "p93436.columns = [93436]"
   ]
  },
  {
   "cell_type": "code",
   "execution_count": 53,
   "metadata": {},
   "outputs": [],
   "source": [
    "import multiprocessing as mp\n",
    "from multiprocessing.pool import ThreadPool\n",
    "\n",
    "def threadify(f, arr):\n",
    "    # Maps array with function f parallelized\n",
    "    pool = ThreadPool(mp.cpu_count())\n",
    "    result = pool.map(f,arr)\n",
    "    pool.terminate()\n",
    "    pool.join()\n",
    "    return result\n",
    "\n",
    "def permno_to_timeseries(data,permno):\n",
    "    # Helper for crsp_to_timeseries\n",
    "    df = data.loc[data['PERMNO'] == permno][['date','RET']].set_index('date')\n",
    "    df.columns = [permno]\n",
    "    return df\n",
    "\n",
    "def crsp_to_timeseries(data):\n",
    "    # Return timeseries DataFrame of unique permnos\n",
    "    permnos = data['PERMNO'].unique()\n",
    "    dfs = threadify(lambda e: permno_to_timeseries(data,e),permnos)\n",
    "    dfs = threadify(lambda df: df.loc[~df.index.duplicated()],dfs)\n",
    "    return pd.concat(dfs,axis=1,sort=False)"
   ]
  },
  {
   "cell_type": "code",
   "execution_count": 55,
   "metadata": {},
   "outputs": [],
   "source": [
    "timeser = crsp_to_timeseries(data)"
   ]
  },
  {
   "cell_type": "code",
   "execution_count": 74,
   "metadata": {},
   "outputs": [
    {
     "data": {
      "text/html": [
       "<div>\n",
       "<style scoped>\n",
       "    .dataframe tbody tr th:only-of-type {\n",
       "        vertical-align: middle;\n",
       "    }\n",
       "\n",
       "    .dataframe tbody tr th {\n",
       "        vertical-align: top;\n",
       "    }\n",
       "\n",
       "    .dataframe thead th {\n",
       "        text-align: right;\n",
       "    }\n",
       "</style>\n",
       "<table border=\"1\" class=\"dataframe\">\n",
       "  <thead>\n",
       "    <tr style=\"text-align: right;\">\n",
       "      <th></th>\n",
       "      <th>10001</th>\n",
       "      <th>93436</th>\n",
       "    </tr>\n",
       "  </thead>\n",
       "  <tbody>\n",
       "    <tr>\n",
       "      <th>10001</th>\n",
       "      <td>0.014999</td>\n",
       "      <td>-0.001229</td>\n",
       "    </tr>\n",
       "    <tr>\n",
       "      <th>93436</th>\n",
       "      <td>-0.001229</td>\n",
       "      <td>0.015010</td>\n",
       "    </tr>\n",
       "  </tbody>\n",
       "</table>\n",
       "</div>"
      ],
      "text/plain": [
       "          10001     93436\n",
       "10001  0.014999 -0.001229\n",
       "93436 -0.001229  0.015010"
      ]
     },
     "execution_count": 74,
     "metadata": {},
     "output_type": "execute_result"
    }
   ],
   "source": [
    "timeser[[10001,93436]].cov()"
   ]
  },
  {
   "cell_type": "code",
   "execution_count": 79,
   "metadata": {},
   "outputs": [],
   "source": [
    "covm = timeser[[93418,93420,93422,93423,93426]].cov().to_numpy()"
   ]
  },
  {
   "cell_type": "code",
   "execution_count": 82,
   "metadata": {},
   "outputs": [
    {
     "data": {
      "text/plain": [
       "array([[0.03617916, 0.01245388, 0.00307017, 0.00108404, 0.00077745],\n",
       "       [0.01245388, 0.03858536, 0.02402099, 0.00333742, 0.00661527],\n",
       "       [0.00307017, 0.02402099, 0.02690761, 0.0033782 , 0.00490849],\n",
       "       [0.00108404, 0.00333742, 0.0033782 , 0.00576125, 0.00075839],\n",
       "       [0.00077745, 0.00661527, 0.00490849, 0.00075839, 0.01051711]])"
      ]
     },
     "execution_count": 82,
     "metadata": {},
     "output_type": "execute_result"
    }
   ],
   "source": [
    "covm"
   ]
  },
  {
   "cell_type": "code",
   "execution_count": 75,
   "metadata": {},
   "outputs": [
    {
     "data": {
      "text/plain": [
       "0.014998628314980647"
      ]
     },
     "execution_count": 75,
     "metadata": {},
     "output_type": "execute_result"
    }
   ],
   "source": [
    "timeser[10001].var()"
   ]
  },
  {
   "cell_type": "code",
   "execution_count": 76,
   "metadata": {},
   "outputs": [],
   "source": [
    "from scipy.optimize import minimize"
   ]
  },
  {
   "cell_type": "code",
   "execution_count": 95,
   "metadata": {},
   "outputs": [],
   "source": [
    "t = lambda X: np.transpose(X)\n",
    "mm = lambda A,B: np.matmul(A,B)\n",
    "\n",
    "pvar = lambda w: mm(mm(t(w),covm),w)"
   ]
  },
  {
   "cell_type": "code",
   "execution_count": 96,
   "metadata": {},
   "outputs": [
    {
     "data": {
      "text/plain": [
       "0.009550363491191689"
      ]
     },
     "execution_count": 96,
     "metadata": {},
     "output_type": "execute_result"
    }
   ],
   "source": [
    "w = np.array([0.2,0.2,0.2,0.2,0.2])\n",
    "pvar(w)"
   ]
  },
  {
   "cell_type": "code",
   "execution_count": 125,
   "metadata": {},
   "outputs": [],
   "source": [
    "#sum_to_one = [{'type': 'eq', 'fun': lambda w:  np.sum(w)-1.0}]\n",
    "\n",
    "#cons = [{'type': 'ineq', 'fun': lambda w: w[i]} for i in range(len(w))] + sum_to_one\n",
    "\n",
    "cons = [{'type': 'eq', 'fun': lambda w:  np.sum(w)-1.0}]\n",
    "b = [(0, None) for i in range(len(w))]"
   ]
  },
  {
   "cell_type": "code",
   "execution_count": 126,
   "metadata": {},
   "outputs": [],
   "source": [
    "res = minimize(pvar, w, method='SLSQP',constraints=cons, bounds=b)"
   ]
  },
  {
   "cell_type": "code",
   "execution_count": 127,
   "metadata": {},
   "outputs": [
    {
     "data": {
      "text/plain": [
       "1.0"
      ]
     },
     "execution_count": 127,
     "metadata": {},
     "output_type": "execute_result"
    }
   ],
   "source": [
    "sum(res.x)"
   ]
  },
  {
   "cell_type": "code",
   "execution_count": 129,
   "metadata": {},
   "outputs": [
    {
     "name": "stdout",
     "output_type": "stream",
     "text": [
      "     fun: 0.0038174434229773053\n",
      "     jac: array([0.00782195, 0.01021806, 0.00765065, 0.00765256, 0.00754971])\n",
      " message: 'Optimization terminated successfully.'\n",
      "    nfev: 105\n",
      "     nit: 15\n",
      "    njev: 15\n",
      "  status: 0\n",
      " success: True\n",
      "       x: array([0.08324941, 0.        , 0.        , 0.60780824, 0.30894235])\n"
     ]
    }
   ],
   "source": [
    "print(res)"
   ]
  },
  {
   "cell_type": "code",
   "execution_count": 130,
   "metadata": {},
   "outputs": [
    {
     "data": {
      "text/plain": [
       "array([0.08324941, 0.        , 0.        , 0.60780824, 0.30894235])"
      ]
     },
     "execution_count": 130,
     "metadata": {},
     "output_type": "execute_result"
    }
   ],
   "source": [
    "res.x"
   ]
  },
  {
   "cell_type": "code",
   "execution_count": 131,
   "metadata": {},
   "outputs": [
    {
     "data": {
      "text/plain": [
       "True"
      ]
     },
     "execution_count": 131,
     "metadata": {},
     "output_type": "execute_result"
    }
   ],
   "source": [
    "res.success"
   ]
  },
  {
   "cell_type": "code",
   "execution_count": 133,
   "metadata": {},
   "outputs": [
    {
     "data": {
      "text/plain": [
       "array([0.25, 0.25, 0.25, 0.25])"
      ]
     },
     "execution_count": 133,
     "metadata": {},
     "output_type": "execute_result"
    }
   ],
   "source": [
    "np.array([1,1,1,1])/sum(np.array([1,1,1,1]))"
   ]
  },
  {
   "cell_type": "code",
   "execution_count": null,
   "metadata": {},
   "outputs": [],
   "source": [
    "def optimal_weights(covm):\n",
    "    t = lambda X: np.transpose(X)\n",
    "    mm = lambda A,B: np.matmul(A,B)\n",
    "    pvar = lambda w: mm(mm(t(w),covm),w)\n",
    "    \n",
    "    # Weights sum to 1\n",
    "    cons = [{'type': 'eq', 'fun': lambda w:  np.sum(w)-1.0}]\n",
    "    # No short sales\n",
    "    b = [(0, None) for i in range(len(w))]\n",
    "    \n",
    "    res = minimize(pvar, w, method='SLSQP',constraints=cons, bounds=b)\n",
    "    \n",
    "    # Returns minimization successful return optimal weights\n",
    "    # Else return equal weights\n",
    "    if res.success:\n",
    "        return res.x\n",
    "    else:\n",
    "        "
   ]
  }
 ],
 "metadata": {
  "kernelspec": {
   "display_name": "Python 3",
   "language": "python",
   "name": "python3"
  },
  "language_info": {
   "codemirror_mode": {
    "name": "ipython",
    "version": 3
   },
   "file_extension": ".py",
   "mimetype": "text/x-python",
   "name": "python",
   "nbconvert_exporter": "python",
   "pygments_lexer": "ipython3",
   "version": "3.7.3"
  }
 },
 "nbformat": 4,
 "nbformat_minor": 2
}
