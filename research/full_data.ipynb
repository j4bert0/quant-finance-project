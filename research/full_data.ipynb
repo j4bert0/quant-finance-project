{
 "cells": [
  {
   "cell_type": "markdown",
   "metadata": {},
   "source": [
    "# Full data"
   ]
  },
  {
   "cell_type": "code",
   "execution_count": 1,
   "metadata": {},
   "outputs": [],
   "source": [
    "import pandas as pd\n",
    "import numpy as np\n",
    "pd.options.mode.chained_assignment = None"
   ]
  },
  {
   "cell_type": "markdown",
   "metadata": {},
   "source": [
    "CRSP from 199801 to 201912."
   ]
  },
  {
   "cell_type": "code",
   "execution_count": 2,
   "metadata": {},
   "outputs": [],
   "source": [
    "data = pd.read_csv('crsp_9819.csv',low_memory=False)"
   ]
  },
  {
   "cell_type": "markdown",
   "metadata": {},
   "source": [
    "## Adjustments"
   ]
  },
  {
   "cell_type": "code",
   "execution_count": 3,
   "metadata": {},
   "outputs": [
    {
     "data": {
      "text/plain": [
       "PERMNO       int64\n",
       "date         int64\n",
       "SHRCD      float64\n",
       "SICCD       object\n",
       "TICKER      object\n",
       "COMNAM      object\n",
       "TRDSTAT     object\n",
       "SECSTAT     object\n",
       "PERMCO       int64\n",
       "HSICCD      object\n",
       "CUSIP       object\n",
       "HSICMG     float64\n",
       "HSICIG     float64\n",
       "DLRETX      object\n",
       "DLRET       object\n",
       "PRC        float64\n",
       "VOL        float64\n",
       "RET         object\n",
       "SHROUT     float64\n",
       "SPREAD     float64\n",
       "RETX        object\n",
       "vwretd     float64\n",
       "ewretd     float64\n",
       "dtype: object"
      ]
     },
     "execution_count": 3,
     "metadata": {},
     "output_type": "execute_result"
    }
   ],
   "source": [
    "data.dtypes"
   ]
  },
  {
   "cell_type": "markdown",
   "metadata": {},
   "source": [
    "### Returns"
   ]
  },
  {
   "cell_type": "markdown",
   "metadata": {},
   "source": [
    "* $RET$ == C excluded\n",
    "* $RET$ == B exclided\n",
    "* $RET$ == NaN set to zero"
   ]
  },
  {
   "cell_type": "code",
   "execution_count": 4,
   "metadata": {},
   "outputs": [
    {
     "data": {
      "text/plain": [
       "1950751"
      ]
     },
     "execution_count": 4,
     "metadata": {},
     "output_type": "execute_result"
    }
   ],
   "source": [
    "data['RET'].size"
   ]
  },
  {
   "cell_type": "code",
   "execution_count": 5,
   "metadata": {},
   "outputs": [
    {
     "name": "stdout",
     "output_type": "stream",
     "text": [
      "RET == E observations: 0\n",
      "RET == D observations: 0\n",
      "RET == C observations: 11791 (No valid previous price)\n",
      "RET == B observations: 26446 (Off-exchange)\n",
      "RET == A observations: 0\n",
      "RET == NaN observations: 24556 (No valid price)\n"
     ]
    }
   ],
   "source": [
    "print('RET == E observations: {}'.format(data.loc[data['RET'] == 'E']['RET'].size))\n",
    "print('RET == D observations: {}'.format(data.loc[data['RET'] == 'D']['RET'].size))\n",
    "print('RET == C observations: {} (No valid previous price)'.format(data.loc[data['RET'] == 'C']['RET'].size))\n",
    "print('RET == B observations: {} (Off-exchange)'.format(data.loc[data['RET'] == 'B']['RET'].size))\n",
    "print('RET == A observations: {}'.format(data.loc[data['RET'] == 'A']['RET'].size))\n",
    "print('RET == NaN observations: {} (No valid price)'.format(data.loc[data['RET'].isna()].shape[0]))"
   ]
  },
  {
   "cell_type": "code",
   "execution_count": 6,
   "metadata": {},
   "outputs": [
    {
     "data": {
      "text/plain": [
       "1950751"
      ]
     },
     "execution_count": 6,
     "metadata": {},
     "output_type": "execute_result"
    }
   ],
   "source": [
    "data_ret_non_nan = data.loc[data['RET'].notna()]\n",
    "data_ret_nan = data.loc[data['RET'].isna()]\n",
    "data_ret_non_nan['RET'].size + data_ret_nan['RET'].size"
   ]
  },
  {
   "cell_type": "code",
   "execution_count": 7,
   "metadata": {},
   "outputs": [],
   "source": [
    "data_ret_nan['RET'] = 0\n",
    "data_ret_non_nan = data_ret_non_nan.loc[(data_ret_non_nan['RET'] != 'C') & (data_ret_non_nan['RET'] != 'B')]\n",
    "data_ret_adj = pd.concat([data_ret_nan,data_ret_non_nan])"
   ]
  },
  {
   "cell_type": "code",
   "execution_count": 8,
   "metadata": {},
   "outputs": [
    {
     "data": {
      "text/plain": [
       "1912514"
      ]
     },
     "execution_count": 8,
     "metadata": {},
     "output_type": "execute_result"
    }
   ],
   "source": [
    "data_ret_adj['RET'].size"
   ]
  },
  {
   "cell_type": "code",
   "execution_count": 9,
   "metadata": {},
   "outputs": [],
   "source": [
    "data = data_ret_adj"
   ]
  },
  {
   "cell_type": "code",
   "execution_count": 10,
   "metadata": {},
   "outputs": [
    {
     "data": {
      "text/plain": [
       "True"
      ]
     },
     "execution_count": 10,
     "metadata": {},
     "output_type": "execute_result"
    }
   ],
   "source": [
    "11791+26446 == 1950751-1912514"
   ]
  },
  {
   "cell_type": "markdown",
   "metadata": {},
   "source": [
    "### Prices"
   ]
  },
  {
   "cell_type": "markdown",
   "metadata": {},
   "source": [
    "Excluded stocks with $PRC < 1$."
   ]
  },
  {
   "cell_type": "code",
   "execution_count": 11,
   "metadata": {},
   "outputs": [],
   "source": [
    "data['PRC'] = data['PRC'].abs()"
   ]
  },
  {
   "cell_type": "code",
   "execution_count": 12,
   "metadata": {},
   "outputs": [],
   "source": [
    "data = data.loc[data['PRC'] >= 1]"
   ]
  },
  {
   "cell_type": "code",
   "execution_count": 13,
   "metadata": {},
   "outputs": [
    {
     "data": {
      "text/plain": [
       "1822680"
      ]
     },
     "execution_count": 13,
     "metadata": {},
     "output_type": "execute_result"
    }
   ],
   "source": [
    "data['RET'].size"
   ]
  },
  {
   "cell_type": "markdown",
   "metadata": {},
   "source": [
    "### Sharecodes"
   ]
  },
  {
   "cell_type": "markdown",
   "metadata": {},
   "source": [
    "Only sharecodes $10$ and $11$ are of interest (ordinary common shares of US stocks)."
   ]
  },
  {
   "cell_type": "code",
   "execution_count": 14,
   "metadata": {},
   "outputs": [],
   "source": [
    "data = data.loc[(data['SHRCD'] == 10) | (data['SHRCD'] == 11)]"
   ]
  },
  {
   "cell_type": "code",
   "execution_count": 15,
   "metadata": {},
   "outputs": [
    {
     "data": {
      "text/plain": [
       "1164202"
      ]
     },
     "execution_count": 15,
     "metadata": {},
     "output_type": "execute_result"
    }
   ],
   "source": [
    "data['RET'].size"
   ]
  },
  {
   "cell_type": "markdown",
   "metadata": {},
   "source": [
    "### Delisting returns"
   ]
  },
  {
   "cell_type": "markdown",
   "metadata": {},
   "source": [
    "Delisting returns are adjusted according to Shumway (1997) procedure. Also $RETX$ adjusted (for robustness testing)"
   ]
  },
  {
   "cell_type": "code",
   "execution_count": 16,
   "metadata": {},
   "outputs": [
    {
     "name": "stdout",
     "output_type": "stream",
     "text": [
      "DLRET == S observations: 3 (CRSP has no source to establish a value after delisting)\n",
      "DLRET == T observations: 0\n",
      "DLRET == A observations: 3415 (Security is still active)\n",
      "DLRET == P observations: 0\n",
      "DLRET == NaN observations: 1159746\n"
     ]
    }
   ],
   "source": [
    "print('DLRET == S observations: {} (CRSP has no source to establish a value after delisting)'.format(data.loc[data['DLRET'] == 'S']['RET'].size))\n",
    "print('DLRET == T observations: {}'.format(data.loc[data['DLRET'] == 'T']['RET'].size))\n",
    "print('DLRET == A observations: {} (Security is still active)'.format(data.loc[data['DLRET'] == 'A']['RET'].size))\n",
    "print('DLRET == P observations: {}'.format(data.loc[data['DLRET'] == 'P']['RET'].size))\n",
    "print('DLRET == NaN observations: {}'.format(data.loc[data['DLRET'].isna()].shape[0]))"
   ]
  },
  {
   "cell_type": "code",
   "execution_count": 17,
   "metadata": {},
   "outputs": [
    {
     "name": "stdout",
     "output_type": "stream",
     "text": [
      "Hence 1038 DLRET entries\n"
     ]
    }
   ],
   "source": [
    "print('Hence {} DLRET entries'.format(data['RET'].size - (1159746 + 3415 + 3)))"
   ]
  },
  {
   "cell_type": "code",
   "execution_count": 18,
   "metadata": {},
   "outputs": [
    {
     "data": {
      "text/plain": [
       "1159746"
      ]
     },
     "execution_count": 18,
     "metadata": {},
     "output_type": "execute_result"
    }
   ],
   "source": [
    "non_dl_data = data.loc[data['DLRET'].isna()] # no need for adjustment\n",
    "non_dl_data['RET'].size"
   ]
  },
  {
   "cell_type": "code",
   "execution_count": 19,
   "metadata": {},
   "outputs": [
    {
     "data": {
      "text/plain": [
       "4456"
      ]
     },
     "execution_count": 19,
     "metadata": {},
     "output_type": "execute_result"
    }
   ],
   "source": [
    "dl_rets = data.loc[data['DLRET'].notna()] # need for adjustment\n",
    "dl_rets['RET'].size"
   ]
  },
  {
   "cell_type": "code",
   "execution_count": 20,
   "metadata": {},
   "outputs": [],
   "source": [
    "df_rets_no_adjust = dl_rets.loc[dl_rets['DLRET'] == 'A']\n",
    "dl_rets_has_dlret = dl_rets.loc[(dl_rets['DLRET'] != 'A') & (dl_rets['DLRET'] != 'S')]"
   ]
  },
  {
   "cell_type": "code",
   "execution_count": 21,
   "metadata": {},
   "outputs": [],
   "source": [
    "dl_rets_has_dlret['RET'] = dl_rets_has_dlret['DLRET']\n",
    "dl_rets_has_dlret['RETX'] = dl_rets_has_dlret['DLRET']"
   ]
  },
  {
   "cell_type": "code",
   "execution_count": 22,
   "metadata": {},
   "outputs": [],
   "source": [
    "dl_rets_has_nodl = dl_rets.loc[dl_rets['DLRET'] == 'S']\n",
    "dl_rets_has_nodl['RET'] = -1\n",
    "dl_rets_has_nodl['RETX'] = -1"
   ]
  },
  {
   "cell_type": "code",
   "execution_count": 23,
   "metadata": {},
   "outputs": [],
   "source": [
    "data = pd.concat([non_dl_data,df_rets_no_adjust,dl_rets_has_dlret,dl_rets_has_nodl]).sort_index()"
   ]
  },
  {
   "cell_type": "code",
   "execution_count": 24,
   "metadata": {},
   "outputs": [
    {
     "data": {
      "text/plain": [
       "1164202"
      ]
     },
     "execution_count": 24,
     "metadata": {},
     "output_type": "execute_result"
    }
   ],
   "source": [
    "data['RET'].size"
   ]
  },
  {
   "cell_type": "markdown",
   "metadata": {},
   "source": [
    "### ME variable"
   ]
  },
  {
   "cell_type": "markdown",
   "metadata": {},
   "source": [
    "Market value of equity"
   ]
  },
  {
   "cell_type": "code",
   "execution_count": 25,
   "metadata": {},
   "outputs": [],
   "source": [
    "data[\"ME\"] = data[\"PRC\"] * data[\"SHROUT\"] / 1000"
   ]
  },
  {
   "cell_type": "markdown",
   "metadata": {},
   "source": [
    "### Date conversion"
   ]
  },
  {
   "cell_type": "code",
   "execution_count": 26,
   "metadata": {},
   "outputs": [],
   "source": [
    "def date_conversion(date): return date[:6]\n",
    "\n",
    "v_date_conversion = np.vectorize(date_conversion)"
   ]
  },
  {
   "cell_type": "code",
   "execution_count": 27,
   "metadata": {},
   "outputs": [],
   "source": [
    "data[\"date\"] = data[\"date\"].astype(str)\n",
    "data[\"date\"] = v_date_conversion(data[\"date\"])"
   ]
  },
  {
   "cell_type": "code",
   "execution_count": 28,
   "metadata": {},
   "outputs": [],
   "source": [
    "data['date'] = data['date'].astype(int)"
   ]
  },
  {
   "cell_type": "markdown",
   "metadata": {},
   "source": [
    "## Needed variables"
   ]
  },
  {
   "cell_type": "code",
   "execution_count": 29,
   "metadata": {},
   "outputs": [
    {
     "data": {
      "text/plain": [
       "PERMNO       int64\n",
       "date         int64\n",
       "SHRCD      float64\n",
       "SICCD       object\n",
       "TICKER      object\n",
       "COMNAM      object\n",
       "TRDSTAT     object\n",
       "SECSTAT     object\n",
       "PERMCO       int64\n",
       "HSICCD      object\n",
       "CUSIP       object\n",
       "HSICMG     float64\n",
       "HSICIG     float64\n",
       "DLRETX      object\n",
       "DLRET       object\n",
       "PRC        float64\n",
       "VOL        float64\n",
       "RET         object\n",
       "SHROUT     float64\n",
       "SPREAD     float64\n",
       "RETX        object\n",
       "vwretd     float64\n",
       "ewretd     float64\n",
       "ME         float64\n",
       "dtype: object"
      ]
     },
     "execution_count": 29,
     "metadata": {},
     "output_type": "execute_result"
    }
   ],
   "source": [
    "data.dtypes"
   ]
  },
  {
   "cell_type": "code",
   "execution_count": 30,
   "metadata": {},
   "outputs": [],
   "source": [
    "data = data[['PERMNO','date','TICKER','COMNAM','RET','RETX','ME','vwretd','ewretd']]"
   ]
  },
  {
   "cell_type": "code",
   "execution_count": 31,
   "metadata": {},
   "outputs": [],
   "source": [
    "data['RET'] = data['RET'].astype(float)\n",
    "data['RETX'] = data['RETX'].astype(float)"
   ]
  },
  {
   "cell_type": "code",
   "execution_count": 32,
   "metadata": {},
   "outputs": [],
   "source": [
    "fdata = data"
   ]
  }
 ],
 "metadata": {
  "kernelspec": {
   "display_name": "Python 3",
   "language": "python",
   "name": "python3"
  },
  "language_info": {
   "codemirror_mode": {
    "name": "ipython",
    "version": 3
   },
   "file_extension": ".py",
   "mimetype": "text/x-python",
   "name": "python",
   "nbconvert_exporter": "python",
   "pygments_lexer": "ipython3",
   "version": "3.7.6"
  }
 },
 "nbformat": 4,
 "nbformat_minor": 2
}
