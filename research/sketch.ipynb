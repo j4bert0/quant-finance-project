{
 "cells": [
  {
   "cell_type": "code",
   "execution_count": 1,
   "metadata": {},
   "outputs": [],
   "source": [
    "import pandas as pd\n",
    "import numpy as np"
   ]
  },
  {
   "cell_type": "markdown",
   "metadata": {},
   "source": [
    "## Data"
   ]
  },
  {
   "cell_type": "code",
   "execution_count": 2,
   "metadata": {},
   "outputs": [],
   "source": [
    "data = pd.read_csv('crsp_testset.csv')"
   ]
  },
  {
   "cell_type": "code",
   "execution_count": 3,
   "metadata": {},
   "outputs": [
    {
     "name": "stdout",
     "output_type": "stream",
     "text": [
      "Min and max of ME: (0.13806000000000002,1304764.72281735)\n"
     ]
    }
   ],
   "source": [
    "data[\"RET\"] = data[\"RET\"].replace('C',0) # Corrupted return data set to 0\n",
    "data[\"RET\"] = data[\"RET\"].astype('float64') # Conversion of RET: object -> float64 (string -> numeric)\n",
    "data[\"ME\"] = data[\"PRC\"] * data[\"SHROUT\"] / 1000\n",
    "print(\"Min and max of ME: ({},{})\".format(data[\"ME\"].min(),(data[\"ME\"].max())))"
   ]
  },
  {
   "cell_type": "code",
   "execution_count": 4,
   "metadata": {},
   "outputs": [],
   "source": [
    "def date_conversion(date):\n",
    "    # Changing date format DDMMMYYYY -> YYYYMM i.e. 30JAN2015 -> 201501\n",
    "    c = {'JAN' : '01', 'FEB' : '02', 'MAR' : '03', 'APR' : '04',\n",
    "         'MAY' : '05', 'JUN' : '06', 'JUL' : '07', 'AUG' : '08',\n",
    "         'SEP' : '09', 'OCT' : '10', 'NOV' : '11', 'DEC' : '12'}\n",
    "    return date[5:] + c[date[2:5]]\n",
    "\n",
    "v_date_conversion = np.vectorize(date_conversion)"
   ]
  },
  {
   "cell_type": "code",
   "execution_count": 5,
   "metadata": {},
   "outputs": [
    {
     "name": "stdout",
     "output_type": "stream",
     "text": [
      "Number of unique tickers: 5058\n",
      "Data range (date): 201501 to 201912\n",
      "Number of months: 60\n"
     ]
    },
    {
     "data": {
      "text/plain": [
       "array(['201501', '201502', '201503', '201504', '201505', '201506',\n",
       "       '201507', '201508', '201509', '201510', '201511', '201512',\n",
       "       '201601', '201602', '201603', '201604', '201605', '201606',\n",
       "       '201607', '201608', '201609', '201610', '201611', '201612',\n",
       "       '201701', '201702', '201703', '201704', '201705', '201706',\n",
       "       '201707', '201708', '201709', '201710', '201711', '201712',\n",
       "       '201801', '201802', '201803', '201804', '201805', '201806',\n",
       "       '201807', '201808', '201809', '201810', '201811', '201812',\n",
       "       '201901', '201902', '201903', '201904', '201905', '201906',\n",
       "       '201907', '201908', '201909', '201910', '201911', '201912'],\n",
       "      dtype=object)"
      ]
     },
     "execution_count": 5,
     "metadata": {},
     "output_type": "execute_result"
    }
   ],
   "source": [
    "print(\"Number of unique tickers: {}\".format(data[\"TICKER\"].nunique()))\n",
    "data[\"date\"] = v_date_conversion(data[\"date\"])\n",
    "print(\"Data range (date): {} to {}\".format(data[\"date\"].unique()[0], data[\"date\"].unique()[-1]))\n",
    "months = data[\"date\"].unique()\n",
    "print(\"Number of months: {}\".format(months.size))\n",
    "months"
   ]
  },
  {
   "cell_type": "code",
   "execution_count": 6,
   "metadata": {},
   "outputs": [],
   "source": [
    "def print_ret_table(df,first=3,last=3): return df.head(first).append(df.tail(last)) \n",
    "# helper for printing return tables for debugging"
   ]
  },
  {
   "cell_type": "markdown",
   "metadata": {},
   "source": [
    "## Multiprocessing"
   ]
  },
  {
   "cell_type": "code",
   "execution_count": 7,
   "metadata": {},
   "outputs": [],
   "source": [
    "import multiprocessing as mp\n",
    "from multiprocessing.pool import ThreadPool"
   ]
  },
  {
   "cell_type": "code",
   "execution_count": 8,
   "metadata": {},
   "outputs": [],
   "source": [
    "def threadify(f, arr):\n",
    "    # Maps array with function f parallelized\n",
    "    pool = ThreadPool(mp.cpu_count())\n",
    "    result = pool.map(f,arr)\n",
    "    pool.terminate()\n",
    "    pool.join()\n",
    "    return result"
   ]
  },
  {
   "cell_type": "markdown",
   "metadata": {},
   "source": [
    "## Wrangling"
   ]
  },
  {
   "cell_type": "code",
   "execution_count": 9,
   "metadata": {},
   "outputs": [],
   "source": [
    "pd.options.mode.chained_assignment = None\n",
    "\n",
    "def lag_return_permno(data,n,permno):\n",
    "    # Return df with added lagged returns (up to n lags) of a stock (PERMNO)\n",
    "    # Loses n first observations \n",
    "    permno_data = data.loc[data['PERMNO'] == permno]\n",
    "    for lag in range(1,n+1):\n",
    "        col = 'LRET_{}'.format(lag)\n",
    "        permno_data[col] = permno_data['RET'].shift(lag)\n",
    "    return permno_data.iloc[3:]\n",
    "\n",
    "def lag_returns(data,n):\n",
    "    # Adds lagged returns (up to n lags) of each stock to the dataset\n",
    "    # Loses n first observations for each stock\n",
    "    permnos = data['PERMNO'].unique()\n",
    "    dfs = threadify(lambda permno: lag_return_permno(data,n,permno),permnos)\n",
    "    return pd.concat(dfs, ignore_index=True)"
   ]
  },
  {
   "cell_type": "code",
   "execution_count": 10,
   "metadata": {},
   "outputs": [],
   "source": [
    "lagged_data = lag_returns(data,3)"
   ]
  },
  {
   "cell_type": "code",
   "execution_count": 11,
   "metadata": {},
   "outputs": [],
   "source": [
    "def quantiles_for_date(data,wrt,date,r):\n",
    "    # return list of breakpoint values (quantiles) on a date wrt to a given variable\n",
    "    # r = quantile separation, e.g. n = 20 -> [q(0.2),q(0.4),q(0.6),q(0.8),q(1)]\n",
    "    data = data.loc[data['date'] == date]\n",
    "    qs = [q/100 for q in range(r,100+r,r)]\n",
    "    breakpoints = [np.quantile(data[wrt].values,q) for q in qs]\n",
    "    return {**{'date':date}, **dict(zip(range(1,r+1),breakpoints))}\n",
    "\n",
    "def quantile_table(data,wrt,r):\n",
    "    dates = data['date'].unique()\n",
    "    qs_dates = threadify(lambda date: quantiles_for_date(data,wrt,date,r),dates)\n",
    "    return pd.DataFrame(qs_dates).set_index('date')"
   ]
  },
  {
   "cell_type": "code",
   "execution_count": 12,
   "metadata": {},
   "outputs": [
    {
     "data": {
      "text/html": [
       "<div>\n",
       "<style scoped>\n",
       "    .dataframe tbody tr th:only-of-type {\n",
       "        vertical-align: middle;\n",
       "    }\n",
       "\n",
       "    .dataframe tbody tr th {\n",
       "        vertical-align: top;\n",
       "    }\n",
       "\n",
       "    .dataframe thead th {\n",
       "        text-align: right;\n",
       "    }\n",
       "</style>\n",
       "<table border=\"1\" class=\"dataframe\">\n",
       "  <thead>\n",
       "    <tr style=\"text-align: right;\">\n",
       "      <th></th>\n",
       "      <th>1</th>\n",
       "      <th>2</th>\n",
       "      <th>3</th>\n",
       "      <th>4</th>\n",
       "      <th>5</th>\n",
       "      <th>6</th>\n",
       "      <th>7</th>\n",
       "      <th>8</th>\n",
       "      <th>9</th>\n",
       "      <th>10</th>\n",
       "    </tr>\n",
       "    <tr>\n",
       "      <th>date</th>\n",
       "      <th></th>\n",
       "      <th></th>\n",
       "      <th></th>\n",
       "      <th></th>\n",
       "      <th></th>\n",
       "      <th></th>\n",
       "      <th></th>\n",
       "      <th></th>\n",
       "      <th></th>\n",
       "      <th></th>\n",
       "    </tr>\n",
       "  </thead>\n",
       "  <tbody>\n",
       "    <tr>\n",
       "      <td>201504</td>\n",
       "      <td>-0.104745</td>\n",
       "      <td>-0.055241</td>\n",
       "      <td>-0.028374</td>\n",
       "      <td>-0.010547</td>\n",
       "      <td>0.003913</td>\n",
       "      <td>0.020808</td>\n",
       "      <td>0.038520</td>\n",
       "      <td>0.064205</td>\n",
       "      <td>0.112004</td>\n",
       "      <td>2.025783</td>\n",
       "    </tr>\n",
       "    <tr>\n",
       "      <td>201505</td>\n",
       "      <td>-0.111171</td>\n",
       "      <td>-0.069818</td>\n",
       "      <td>-0.046071</td>\n",
       "      <td>-0.028331</td>\n",
       "      <td>-0.012776</td>\n",
       "      <td>0.002763</td>\n",
       "      <td>0.023269</td>\n",
       "      <td>0.051835</td>\n",
       "      <td>0.111181</td>\n",
       "      <td>9.564357</td>\n",
       "    </tr>\n",
       "    <tr>\n",
       "      <td>201506</td>\n",
       "      <td>-0.102128</td>\n",
       "      <td>-0.051048</td>\n",
       "      <td>-0.023609</td>\n",
       "      <td>-0.005460</td>\n",
       "      <td>0.008096</td>\n",
       "      <td>0.023127</td>\n",
       "      <td>0.041088</td>\n",
       "      <td>0.069362</td>\n",
       "      <td>0.128765</td>\n",
       "      <td>1.793594</td>\n",
       "    </tr>\n",
       "    <tr>\n",
       "      <td>201507</td>\n",
       "      <td>-0.100592</td>\n",
       "      <td>-0.062148</td>\n",
       "      <td>-0.039800</td>\n",
       "      <td>-0.020046</td>\n",
       "      <td>-0.002456</td>\n",
       "      <td>0.016041</td>\n",
       "      <td>0.036203</td>\n",
       "      <td>0.062969</td>\n",
       "      <td>0.103392</td>\n",
       "      <td>0.930233</td>\n",
       "    </tr>\n",
       "    <tr>\n",
       "      <td>201508</td>\n",
       "      <td>-0.160441</td>\n",
       "      <td>-0.096924</td>\n",
       "      <td>-0.063009</td>\n",
       "      <td>-0.035843</td>\n",
       "      <td>-0.014799</td>\n",
       "      <td>0.003454</td>\n",
       "      <td>0.024891</td>\n",
       "      <td>0.053396</td>\n",
       "      <td>0.097946</td>\n",
       "      <td>1.651020</td>\n",
       "    </tr>\n",
       "  </tbody>\n",
       "</table>\n",
       "</div>"
      ],
      "text/plain": [
       "              1         2         3         4         5         6         7   \\\n",
       "date                                                                           \n",
       "201504 -0.104745 -0.055241 -0.028374 -0.010547  0.003913  0.020808  0.038520   \n",
       "201505 -0.111171 -0.069818 -0.046071 -0.028331 -0.012776  0.002763  0.023269   \n",
       "201506 -0.102128 -0.051048 -0.023609 -0.005460  0.008096  0.023127  0.041088   \n",
       "201507 -0.100592 -0.062148 -0.039800 -0.020046 -0.002456  0.016041  0.036203   \n",
       "201508 -0.160441 -0.096924 -0.063009 -0.035843 -0.014799  0.003454  0.024891   \n",
       "\n",
       "              8         9         10  \n",
       "date                                  \n",
       "201504  0.064205  0.112004  2.025783  \n",
       "201505  0.051835  0.111181  9.564357  \n",
       "201506  0.069362  0.128765  1.793594  \n",
       "201507  0.062969  0.103392  0.930233  \n",
       "201508  0.053396  0.097946  1.651020  "
      ]
     },
     "execution_count": 12,
     "metadata": {},
     "output_type": "execute_result"
    }
   ],
   "source": [
    "quantile_table(lagged_data,'LRET_1',10).head()"
   ]
  }
 ],
 "metadata": {
  "kernelspec": {
   "display_name": "Python 3",
   "language": "python",
   "name": "python3"
  },
  "language_info": {
   "codemirror_mode": {
    "name": "ipython",
    "version": 3
   },
   "file_extension": ".py",
   "mimetype": "text/x-python",
   "name": "python",
   "nbconvert_exporter": "python",
   "pygments_lexer": "ipython3",
   "version": "3.7.4"
  }
 },
 "nbformat": 4,
 "nbformat_minor": 2
}
