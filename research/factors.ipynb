{
 "cells": [
  {
   "cell_type": "code",
   "execution_count": 1,
   "metadata": {},
   "outputs": [],
   "source": [
    "import pandas as pd\n",
    "import numpy as np\n",
    "\n",
    "pd.options.mode.chained_assignment = None"
   ]
  },
  {
   "cell_type": "code",
   "execution_count": 2,
   "metadata": {},
   "outputs": [],
   "source": [
    "na_factors = pd.read_csv('North_America_5_Factors.csv',skiprows=6)\n",
    "dev_factors = pd.read_csv('Developed_5_Factors.csv',skiprows=6)\n",
    "na_mom = pd.read_csv('North_America_MOM_Factor.csv',skiprows=6)\n",
    "dev_mom = pd.read_csv('Developed_MOM_Factor.csv',skiprows=6)"
   ]
  },
  {
   "cell_type": "code",
   "execution_count": 3,
   "metadata": {},
   "outputs": [],
   "source": [
    "na_factors = na_factors[4:354]\n",
    "dev_factors = dev_factors[4:354]\n",
    "na_mom = na_mom[:350]\n",
    "dev_mom = dev_mom[:350]"
   ]
  },
  {
   "cell_type": "code",
   "execution_count": 4,
   "metadata": {},
   "outputs": [],
   "source": [
    "na_factors['WML'] = na_mom['WML'].values\n",
    "dev_factors['WML'] = dev_mom['WML'].values"
   ]
  },
  {
   "cell_type": "code",
   "execution_count": 5,
   "metadata": {},
   "outputs": [],
   "source": [
    "na_factors.columns = ['date','MKT','SMB','HML','RMW','CMA','RF','WML']\n",
    "dev_factors.columns = ['date','MKT','SMB','HML','RMW','CMA','RF','WML']\n",
    "na_factors = na_factors.set_index('date')\n",
    "dev_factors = dev_factors.set_index('date')\n",
    "na_factors.index = na_factors.index.astype(int)\n",
    "dev_factors.index = dev_factors.index.astype(int)"
   ]
  },
  {
   "cell_type": "code",
   "execution_count": 6,
   "metadata": {},
   "outputs": [],
   "source": [
    "na_factors = na_factors.astype(float)/100\n",
    "dev_factors = dev_factors.astype(float)/100"
   ]
  },
  {
   "cell_type": "code",
   "execution_count": null,
   "metadata": {},
   "outputs": [],
   "source": []
  }
 ],
 "metadata": {
  "kernelspec": {
   "display_name": "Python 3",
   "language": "python",
   "name": "python3"
  },
  "language_info": {
   "codemirror_mode": {
    "name": "ipython",
    "version": 3
   },
   "file_extension": ".py",
   "mimetype": "text/x-python",
   "name": "python",
   "nbconvert_exporter": "python",
   "pygments_lexer": "ipython3",
   "version": "3.7.6"
  }
 },
 "nbformat": 4,
 "nbformat_minor": 2
}
