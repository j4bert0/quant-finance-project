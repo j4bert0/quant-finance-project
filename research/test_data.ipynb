{
 "cells": [
  {
   "cell_type": "code",
   "execution_count": 1,
   "metadata": {},
   "outputs": [],
   "source": [
    "import pandas as pd\n",
    "import numpy as np"
   ]
  },
  {
   "cell_type": "markdown",
   "metadata": {},
   "source": [
    "## Data"
   ]
  },
  {
   "cell_type": "code",
   "execution_count": 2,
   "metadata": {},
   "outputs": [],
   "source": [
    "data = pd.read_csv('crsp_testset.csv')"
   ]
  },
  {
   "cell_type": "code",
   "execution_count": 3,
   "metadata": {},
   "outputs": [
    {
     "name": "stdout",
     "output_type": "stream",
     "text": [
      "Min and max of ME: (0.13806000000000002,1304764.72281735)\n"
     ]
    }
   ],
   "source": [
    "data[\"RET\"] = data[\"RET\"].replace('C',0) # Corrupted return data set to 0\n",
    "data[\"RET\"] = data[\"RET\"].astype('float64') # Conversion of RET: object -> float64 (string -> numeric)\n",
    "data[\"ME\"] = data[\"PRC\"] * data[\"SHROUT\"] / 1000\n",
    "print(\"Min and max of ME: ({},{})\".format(data[\"ME\"].min(),(data[\"ME\"].max())))"
   ]
  },
  {
   "cell_type": "code",
   "execution_count": 4,
   "metadata": {},
   "outputs": [],
   "source": [
    "def date_conversion(date):\n",
    "    # Changing date format DDMMMYYYY -> YYYYMM i.e. 30JAN2015 -> 201501\n",
    "    c = {'JAN' : '01', 'FEB' : '02', 'MAR' : '03', 'APR' : '04',\n",
    "         'MAY' : '05', 'JUN' : '06', 'JUL' : '07', 'AUG' : '08',\n",
    "         'SEP' : '09', 'OCT' : '10', 'NOV' : '11', 'DEC' : '12'}\n",
    "    return date[5:] + c[date[2:5]]\n",
    "\n",
    "v_date_conversion = np.vectorize(date_conversion)"
   ]
  },
  {
   "cell_type": "code",
   "execution_count": 5,
   "metadata": {},
   "outputs": [
    {
     "name": "stdout",
     "output_type": "stream",
     "text": [
      "Number of unique tickers: 5058\n",
      "Data range (date): 201501 to 201912\n",
      "Number of months: 60\n"
     ]
    },
    {
     "data": {
      "text/plain": [
       "array(['201501', '201502', '201503', '201504', '201505', '201506',\n",
       "       '201507', '201508', '201509', '201510', '201511', '201512',\n",
       "       '201601', '201602', '201603', '201604', '201605', '201606',\n",
       "       '201607', '201608', '201609', '201610', '201611', '201612',\n",
       "       '201701', '201702', '201703', '201704', '201705', '201706',\n",
       "       '201707', '201708', '201709', '201710', '201711', '201712',\n",
       "       '201801', '201802', '201803', '201804', '201805', '201806',\n",
       "       '201807', '201808', '201809', '201810', '201811', '201812',\n",
       "       '201901', '201902', '201903', '201904', '201905', '201906',\n",
       "       '201907', '201908', '201909', '201910', '201911', '201912'],\n",
       "      dtype=object)"
      ]
     },
     "execution_count": 5,
     "metadata": {},
     "output_type": "execute_result"
    }
   ],
   "source": [
    "print(\"Number of unique tickers: {}\".format(data[\"TICKER\"].nunique()))\n",
    "data[\"date\"] = v_date_conversion(data[\"date\"])\n",
    "print(\"Data range (date): {} to {}\".format(data[\"date\"].unique()[0], data[\"date\"].unique()[-1]))\n",
    "months = data[\"date\"].unique()\n",
    "print(\"Number of months: {}\".format(months.size))\n",
    "months"
   ]
  },
  {
   "cell_type": "code",
   "execution_count": 6,
   "metadata": {},
   "outputs": [],
   "source": [
    "def print_ret_table(df,first=3,last=3): return df.head(first).append(df.tail(last)) \n",
    "# helper for printing return tables for debugging"
   ]
  }
 ],
 "metadata": {
  "kernelspec": {
   "display_name": "Python 3",
   "language": "python",
   "name": "python3"
  },
  "language_info": {
   "codemirror_mode": {
    "name": "ipython",
    "version": 3
   },
   "file_extension": ".py",
   "mimetype": "text/x-python",
   "name": "python",
   "nbconvert_exporter": "python",
   "pygments_lexer": "ipython3",
   "version": "3.7.4"
  }
 },
 "nbformat": 4,
 "nbformat_minor": 2
}
