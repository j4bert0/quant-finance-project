{
 "cells": [
  {
   "cell_type": "code",
   "execution_count": 1,
   "metadata": {},
   "outputs": [],
   "source": [
    "%%capture\n",
    "%run test_data.ipynb"
   ]
  },
  {
   "cell_type": "code",
   "execution_count": 2,
   "metadata": {},
   "outputs": [],
   "source": [
    "import sys \n",
    "sys.path.append('..')\n",
    "import portfolios as p\n",
    "import positions as pos\n",
    "from dataio import ret_table, vol_table"
   ]
  },
  {
   "cell_type": "markdown",
   "metadata": {},
   "source": [
    "# Do momentum portfolios work as expected?"
   ]
  },
  {
   "cell_type": "markdown",
   "metadata": {},
   "source": [
    "Strategy: at the beginning of each month form portfolios based on momentum.\n",
    "\n",
    "Momentum here: return of the stock in last month. Stocks are assigned into $N$ portfolios based on momentum. Worst performing stocks into the $\\#1$ portfolio and best performing stocks into the $\\#N$ portfolio. Portfolios are rebalanced monthly."
   ]
  },
  {
   "cell_type": "markdown",
   "metadata": {},
   "source": [
    "### Data"
   ]
  },
  {
   "cell_type": "markdown",
   "metadata": {},
   "source": [
    "CRSP monthly. All US listed stocks from 201502 to 201911."
   ]
  },
  {
   "cell_type": "code",
   "execution_count": 3,
   "metadata": {},
   "outputs": [],
   "source": [
    "assigned_data_20 = pd.read_csv('assigned_data_20.csv')"
   ]
  },
  {
   "cell_type": "code",
   "execution_count": null,
   "metadata": {},
   "outputs": [],
   "source": [
    "r_losers_20 = p.compute_strategy_returns(assigned_data_20,'PORT_LRET_1',1)"
   ]
  },
  {
   "cell_type": "code",
   "execution_count": 4,
   "metadata": {},
   "outputs": [
    {
     "name": "stdout",
     "output_type": "stream",
     "text": [
      "YOYYOOY\n",
      "YOYYOOY\n",
      "YOYYOOY\n",
      "YOYYOOY\n",
      "YOYYOOY\n",
      "YOYYOOY\n",
      "YOYYOOY\n",
      "YOYYOOY\n",
      "YOYYOOY\n",
      "YOYYOOY\n",
      "YOYYOOY\n",
      "YOYYOOY\n",
      "YOYYOOY\n",
      "YOYYOOY\n",
      "YOYYOOY\n",
      "YOYYOOY\n",
      "YOYYOOY\n",
      "YOYYOOY\n",
      "YOYYOOY\n",
      "YOYYOOY\n",
      "YOYYOOY\n",
      "YOYYOOY\n",
      "YOYYOOY\n",
      "YOYYOOY\n",
      "YOYYOOY\n",
      "YOYYOOY\n",
      "YOYYOOY\n",
      "YOYYOOY\n",
      "YOYYOOY\n",
      "YOYYOOY\n",
      "YOYYOOY\n",
      "YOYYOOY\n",
      "YOYYOOY\n",
      "YOYYOOY\n",
      "YOYYOOY\n",
      "YOYYOOY\n",
      "YOYYOOY\n",
      "YOYYOOY\n",
      "YOYYOOY\n",
      "YOYYOOY\n",
      "YOYYOOY\n",
      "YOYYOOY\n",
      "YOYYOOY\n",
      "YOYYOOY\n",
      "YOYYOOY\n",
      "YOYYOOY\n",
      "YOYYOOY\n",
      "YOYYOOY\n",
      "YOYYOOY\n",
      "YOYYOOY\n",
      "YOYYOOY\n",
      "YOYYOOY\n",
      "YOYYOOY\n",
      "YOYYOOY\n",
      "YOYYOOY\n",
      "YOYYOOY\n",
      "YOYYOOY\n",
      "YOYYOOY\n",
      "YOYYOOY\n"
     ]
    },
    {
     "name": "stderr",
     "output_type": "stream",
     "text": [
      "c:\\users\\jaakko\\python\\lib\\site-packages\\pandas\\core\\frame.py:7639: RuntimeWarning: Degrees of freedom <= 0 for slice\n",
      "  baseCov = np.cov(mat.T)\n",
      "c:\\users\\jaakko\\python\\lib\\site-packages\\numpy\\lib\\function_base.py:2455: RuntimeWarning: divide by zero encountered in true_divide\n",
      "  c *= np.true_divide(1, fact)\n",
      "c:\\users\\jaakko\\python\\lib\\site-packages\\numpy\\lib\\function_base.py:2455: RuntimeWarning: invalid value encountered in multiply\n",
      "  c *= np.true_divide(1, fact)\n"
     ]
    }
   ],
   "source": [
    "r_losers_20_opt = p.compute_strategy_returns(assigned_data_20,'PORT_LRET_1',1,'optimized')"
   ]
  },
  {
   "cell_type": "code",
   "execution_count": null,
   "metadata": {},
   "outputs": [],
   "source": [
    "strats = pd.concat([r_losers_20,r_losers_20_opt['RET']],axis=1).drop('date',axis=1)"
   ]
  },
  {
   "cell_type": "code",
   "execution_count": null,
   "metadata": {},
   "outputs": [],
   "source": [
    "strats.columns = ['equal','optimized']"
   ]
  },
  {
   "cell_type": "code",
   "execution_count": null,
   "metadata": {},
   "outputs": [],
   "source": [
    "strats = strats[:-1]"
   ]
  },
  {
   "cell_type": "code",
   "execution_count": null,
   "metadata": {},
   "outputs": [],
   "source": [
    "p.plot_cumulative(strats)"
   ]
  },
  {
   "cell_type": "code",
   "execution_count": null,
   "metadata": {},
   "outputs": [],
   "source": [
    "strats.describe()"
   ]
  },
  {
   "cell_type": "code",
   "execution_count": null,
   "metadata": {},
   "outputs": [],
   "source": []
  }
 ],
 "metadata": {
  "kernelspec": {
   "display_name": "Python 3",
   "language": "python",
   "name": "python3"
  },
  "language_info": {
   "codemirror_mode": {
    "name": "ipython",
    "version": 3
   },
   "file_extension": ".py",
   "mimetype": "text/x-python",
   "name": "python",
   "nbconvert_exporter": "python",
   "pygments_lexer": "ipython3",
   "version": "3.7.4"
  }
 },
 "nbformat": 4,
 "nbformat_minor": 2
}
